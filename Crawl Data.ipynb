{
 "cells": [
  {
   "cell_type": "code",
   "execution_count": 6,
   "metadata": {},
   "outputs": [],
   "source": [
    "import requests\n",
    "from bs4 import BeautifulSoup\n",
    "import pandas as pd"
   ]
  },
  {
   "cell_type": "code",
   "execution_count": 10,
   "metadata": {},
   "outputs": [],
   "source": [
    "link_base = 'https://bonbanh.com/oto-cu-da-qua-su-dung'\n",
    "link_list = []\n",
    "link_list.append(link_base)\n",
    "all_info = []\n",
    "\n",
    "\n",
    "#Link truy cập vào từng trang của website\n",
    "for i in range(2, 11):\n",
    "    new_link = link_base + f'/page,{i}'\n",
    "    link_list.append(new_link)\n",
    "\n",
    "#Lấy data của từng trang\n",
    "for j in range(len(link_list)):\n",
    "    name = []\n",
    "    year_of_manufacture = []\n",
    "    price_num = []\n",
    "    response = requests.get(link_list[j])\n",
    "    soup = BeautifulSoup(response.text, 'html.parser')\n",
    "    car_find = soup.find('div', id=\"search_content\")\n",
    "\n",
    "    # Lấy tên và năm sx\n",
    "    car_info = car_find.find_all('div', class_=\"cb2_02\")\n",
    "\n",
    "    car = [car_info[i].text for i in range(len(car_info))]\n",
    "\n",
    "    for item in range(len(car)):\n",
    "        split_name = car[item].replace('-', ' ').split()\n",
    "        name.append(' '.join(split_name[:-1]))\n",
    "        year_of_manufacture.append(split_name[-1])\n",
    "    \n",
    "    # Lấy giá xe\n",
    "    car_price = car_find.find_all('div', class_=\"cb3\")\n",
    "    price = [car_price[i].text for i in range(len(car_price))]\n",
    "\n",
    "    for money in range(len(price)):\n",
    "        split_price = price[money].split()\n",
    "        if 'Tỷ' in split_price:\n",
    "            new_price = int(split_price[split_price.index('Tỷ') - 1]) * 1000 + int(split_price[split_price.index('Tỷ') + 1])\n",
    "        elif 'Triệu' in split_price:\n",
    "            new_price = int(split_price[split_price.index('Triệu') - 1])\n",
    "        price_num.append(new_price)\n",
    "    \n",
    "    #Lấy ảnh \n",
    "    car_img = car_find.find_all('div', class_=\"cb5\")\n",
    "    car_img = car_find.find_all('img')\n",
    "    img = [car_img[i].get('src') for i in range(len(car_img))]\n",
    "\n",
    "    for i in range(len(name)):\n",
    "        all_info.append([f'{name[i]}', f'{year_of_manufacture[i]}', f'{price_num[i]}', f'{img[i]}'])\n",
    "    \n",
    "\n",
    "# Lấy tên brand\n",
    "brand_find = soup.find('div', class_=\"smenu_block\")\n",
    "brand_find = brand_find.find_all('a')\n",
    "brand = [brand_find[i].text for i in range(len(brand_find))]\n",
    "\n",
    "df = pd.DataFrame(all_info, columns=['Name', 'Year of manufacture', 'Price', 'Link image'])\n",
    "df.to_csv('car_data.csv')\n",
    "\n",
    "\n",
    "# brand, name, year_of_manufacture, price_num, img"
   ]
  }
 ],
 "metadata": {
  "kernelspec": {
   "display_name": "Python 3",
   "language": "python",
   "name": "python3"
  },
  "language_info": {
   "codemirror_mode": {
    "name": "ipython",
    "version": 3
   },
   "file_extension": ".py",
   "mimetype": "text/x-python",
   "name": "python",
   "nbconvert_exporter": "python",
   "pygments_lexer": "ipython3",
   "version": "3.11.4"
  }
 },
 "nbformat": 4,
 "nbformat_minor": 2
}
